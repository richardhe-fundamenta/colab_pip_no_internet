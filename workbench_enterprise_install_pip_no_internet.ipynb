{
 "cells": [
  {
   "cell_type": "code",
   "execution_count": null,
   "metadata": {},
   "outputs": [],
   "source": [
    "# To try this vertexai workbench follow the below steps:\n",
    "# Uninstall if any pydantic package using the below command and lets try to install through artifact registry"
   ]
  },
  {
   "cell_type": "code",
   "execution_count": null,
   "metadata": {},
   "outputs": [],
   "source": [
    "!pip uninstall pydantic==2.9.2 -y"
   ]
  },
  {
   "cell_type": "code",
   "execution_count": null,
   "metadata": {},
   "outputs": [],
   "source": [
    "import os"
   ]
  },
  {
   "cell_type": "code",
   "execution_count": null,
   "metadata": {},
   "outputs": [],
   "source": [
    "!gcloud artifacts print-settings python --project=xxx-d-vertexai \\\n",
    "    --repository=pypi-poc \\\n",
    "    --location=us-east4"
   ]
  },
  {
   "cell_type": "code",
   "execution_count": null,
   "metadata": {},
   "outputs": [],
   "source": [
    "# create a file `pip.conf` in the same level as python notebook file (sample file present in this folder)\n",
    " \n",
    "# add the below contents into the pip.conf and save it (url should be from above output)\n",
    " \n",
    "# [global]\n",
    "# extra-index-url = https://us-east4-python.pkg.dev/xxx-d-vertexai/pypi-poc/simple/"
   ]
  },
  {
   "cell_type": "code",
   "execution_count": null,
   "metadata": {},
   "outputs": [],
   "source": [
    "os.environ['PIP_CONFIG_FILE'] = './pip.conf'"
   ]
  },
  {
   "cell_type": "code",
   "execution_count": null,
   "metadata": {},
   "outputs": [],
   "source": [
    "!pip install pydantic==2.9.2 --no-cache-dir"
   ]
  },
  {
   "cell_type": "code",
   "execution_count": null,
   "metadata": {},
   "outputs": [],
   "source": [
    "# verify the artifact registry for the latest downloaded file"
   ]
  }
 ],
 "metadata": {
  "language_info": {
   "name": "python"
  }
 },
 "nbformat": 4,
 "nbformat_minor": 2
}
